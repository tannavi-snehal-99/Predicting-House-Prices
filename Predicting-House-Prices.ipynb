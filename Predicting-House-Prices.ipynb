{
  "nbformat": 4,
  "nbformat_minor": 0,
  "metadata": {
    "colab": {
      "name": "Final Notebook.ipynb",
      "provenance": [],
      "collapsed_sections": []
    },
    "kernelspec": {
      "display_name": "Python 3",
      "language": "python",
      "name": "python3"
    },
    "language_info": {
      "codemirror_mode": {
        "name": "ipython",
        "version": 3
      },
      "file_extension": ".py",
      "mimetype": "text/x-python",
      "name": "python",
      "nbconvert_exporter": "python",
      "pygments_lexer": "ipython3",
      "version": "3.7.6"
    }
  },
  "cells": [
    {
      "cell_type": "markdown",
      "metadata": {
        "id": "x7w5tR3M0jSA"
      },
      "source": [
        "# TEAM-1: Shrey, Tannavi, Gautam"
      ]
    },
    {
      "cell_type": "code",
      "metadata": {
        "id": "EmUt2uQLhDhL"
      },
      "source": [
        "import pandas as pd\n",
        "import numpy as np\n",
        "import matplotlib.pyplot as plt\n",
        "import seaborn as sns\n",
        "import io\n",
        "%matplotlib inline\n",
        "import warnings\n",
        "warnings.filterwarnings(\"ignore\")\n",
        "\n",
        "# from google.colab import files\n",
        "# uploaded = files.upload()\n",
        "# data1=pd.read_csv(io.BytesIO(uploaded['Train.csv']))\n",
        "# test1=pd.read_csv(io.BytesIO(uploaded['Test.csv']))"
      ],
      "execution_count": null,
      "outputs": []
    },
    {
      "cell_type": "markdown",
      "metadata": {
        "id": "-KHPs09r0p0V"
      },
      "source": [
        "# Reading and analysing dataset"
      ]
    },
    {
      "cell_type": "code",
      "metadata": {
        "colab": {
          "base_uri": "https://localhost:8080/"
        },
        "id": "50-vEDtKjUD2",
        "outputId": "6f6b5a29-631a-46c3-ab5b-73c735cc33ac"
      },
      "source": [
        "data=data1.copy()\n",
        "test=test1.copy()\n",
        "test.drop(columns=['price'],axis=1,inplace=True)\n",
        "data.shape,test.shape"
      ],
      "execution_count": null,
      "outputs": [
        {
          "output_type": "execute_result",
          "data": {
            "text/plain": [
              "((13320, 9), (1480, 8))"
            ]
          },
          "metadata": {
            "tags": []
          },
          "execution_count": 3
        }
      ]
    },
    {
      "cell_type": "code",
      "metadata": {
        "colab": {
          "base_uri": "https://localhost:8080/"
        },
        "id": "95ZwZXlD0XBX",
        "outputId": "715f913c-5343-4cda-bf63-477f848a495f"
      },
      "source": [
        "data.isnull().sum()"
      ],
      "execution_count": null,
      "outputs": [
        {
          "output_type": "execute_result",
          "data": {
            "text/plain": [
              "area_type          0\n",
              "availability       0\n",
              "location           1\n",
              "size              16\n",
              "society         5502\n",
              "total_sqft         0\n",
              "bath              73\n",
              "balcony          609\n",
              "price              0\n",
              "dtype: int64"
            ]
          },
          "metadata": {
            "tags": []
          },
          "execution_count": 4
        }
      ]
    },
    {
      "cell_type": "code",
      "metadata": {
        "colab": {
          "base_uri": "https://localhost:8080/"
        },
        "id": "JRARj2ax0XJS",
        "outputId": "f4ae38b0-7f5b-4599-fd4a-673c72aad954"
      },
      "source": [
        "data.nunique()"
      ],
      "execution_count": null,
      "outputs": [
        {
          "output_type": "execute_result",
          "data": {
            "text/plain": [
              "area_type          4\n",
              "availability      81\n",
              "location        1305\n",
              "size              31\n",
              "society         2688\n",
              "total_sqft      2117\n",
              "bath              19\n",
              "balcony            4\n",
              "price           1994\n",
              "dtype: int64"
            ]
          },
          "metadata": {
            "tags": []
          },
          "execution_count": 5
        }
      ]
    },
    {
      "cell_type": "code",
      "metadata": {
        "colab": {
          "base_uri": "https://localhost:8080/"
        },
        "id": "UFzWxwIk2deW",
        "outputId": "49cf8912-eac2-4adc-b1c7-6e95f3ff9d4d"
      },
      "source": [
        "data.dtypes"
      ],
      "execution_count": null,
      "outputs": [
        {
          "output_type": "execute_result",
          "data": {
            "text/plain": [
              "area_type        object\n",
              "availability     object\n",
              "location         object\n",
              "size             object\n",
              "society          object\n",
              "total_sqft       object\n",
              "bath            float64\n",
              "balcony         float64\n",
              "price           float64\n",
              "dtype: object"
            ]
          },
          "metadata": {
            "tags": []
          },
          "execution_count": 6
        }
      ]
    },
    {
      "cell_type": "markdown",
      "metadata": {
        "id": "Ce_K_97W0yfV"
      },
      "source": [
        "# Handling 'availability' column"
      ]
    },
    {
      "cell_type": "code",
      "metadata": {
        "colab": {
          "base_uri": "https://localhost:8080/"
        },
        "id": "Rere0v0Q03U6",
        "outputId": "915be729-fd7e-4cbc-df3a-f3e8c3087420"
      },
      "source": [
        "data.availability.unique()"
      ],
      "execution_count": null,
      "outputs": [
        {
          "output_type": "execute_result",
          "data": {
            "text/plain": [
              "array(['19-Dec', 'Ready To Move', '18-May', '18-Feb', '18-Nov', '20-Dec',\n",
              "       '17-Oct', '21-Dec', '19-Sep', '20-Sep', '18-Mar', '20-Feb',\n",
              "       '18-Apr', '20-Aug', '18-Oct', '19-Mar', '17-Sep', '18-Dec',\n",
              "       '17-Aug', '19-Apr', '18-Jun', '22-Dec', '22-Jan', '18-Aug',\n",
              "       '19-Jan', '17-Jul', '18-Jul', '21-Jun', '20-May', '19-Aug',\n",
              "       '18-Sep', '17-May', '17-Jun', '21-May', '18-Jan', '20-Mar',\n",
              "       '17-Dec', '16-Mar', '19-Jun', '22-Jun', '19-Jul', '21-Feb',\n",
              "       'Immediate Possession', '19-May', '17-Nov', '20-Oct', '20-Jun',\n",
              "       '19-Feb', '21-Oct', '21-Jan', '17-Mar', '17-Apr', '22-May',\n",
              "       '19-Oct', '21-Jul', '21-Nov', '21-Mar', '16-Dec', '22-Mar',\n",
              "       '20-Jan', '21-Sep', '21-Aug', '14-Nov', '19-Nov', '15-Nov',\n",
              "       '16-Jul', '15-Jun', '17-Feb', '20-Nov', '20-Jul', '16-Sep',\n",
              "       '15-Oct', '15-Dec', '16-Oct', '22-Nov', '15-Aug', '17-Jan',\n",
              "       '16-Nov', '20-Apr', '16-Jan', '14-Jul'], dtype=object)"
            ]
          },
          "metadata": {
            "tags": []
          },
          "execution_count": 7
        }
      ]
    },
    {
      "cell_type": "code",
      "metadata": {
        "id": "2RLTHEfCRC0S",
        "colab": {
          "base_uri": "https://localhost:8080/",
          "height": 237
        },
        "outputId": "e0ff0bbd-e011-4d66-f6bb-7aff0b98499d"
      },
      "source": [
        "data['availability']=np.where(data['availability'].str.contains('Ready To Move'),str(13),\n",
        "                     np.where( data['availability'].str.contains('Immediate Possession'),str(14),\n",
        "                        data.availability.apply(lambda x:x[3:])\n",
        "                        ))\n",
        "data.head()\n",
        "\n",
        "test['availability']=np.where(test['availability'].str.contains('Ready To Move'),str(13),\n",
        "                     np.where( test['availability'].str.contains('Immediate Possession'),str(14),\n",
        "                        test.availability.apply(lambda x:x[3:])\n",
        "                        ))\n",
        "\n",
        "print(data['availability'].unique())\n",
        "\n",
        "#later on we will encode the availability column\n",
        "data.head()"
      ],
      "execution_count": null,
      "outputs": [
        {
          "output_type": "stream",
          "text": [
            "['Dec' '13' 'May' 'Feb' 'Nov' 'Oct' 'Sep' 'Mar' 'Apr' 'Aug' 'Jun' 'Jan'\n",
            " 'Jul' '14']\n"
          ],
          "name": "stdout"
        },
        {
          "output_type": "execute_result",
          "data": {
            "text/html": [
              "<div>\n",
              "<style scoped>\n",
              "    .dataframe tbody tr th:only-of-type {\n",
              "        vertical-align: middle;\n",
              "    }\n",
              "\n",
              "    .dataframe tbody tr th {\n",
              "        vertical-align: top;\n",
              "    }\n",
              "\n",
              "    .dataframe thead th {\n",
              "        text-align: right;\n",
              "    }\n",
              "</style>\n",
              "<table border=\"1\" class=\"dataframe\">\n",
              "  <thead>\n",
              "    <tr style=\"text-align: right;\">\n",
              "      <th></th>\n",
              "      <th>area_type</th>\n",
              "      <th>availability</th>\n",
              "      <th>location</th>\n",
              "      <th>size</th>\n",
              "      <th>society</th>\n",
              "      <th>total_sqft</th>\n",
              "      <th>bath</th>\n",
              "      <th>balcony</th>\n",
              "      <th>price</th>\n",
              "    </tr>\n",
              "  </thead>\n",
              "  <tbody>\n",
              "    <tr>\n",
              "      <th>0</th>\n",
              "      <td>Super built-up  Area</td>\n",
              "      <td>Dec</td>\n",
              "      <td>Electronic City Phase II</td>\n",
              "      <td>2 BHK</td>\n",
              "      <td>Coomee</td>\n",
              "      <td>1056</td>\n",
              "      <td>2.0</td>\n",
              "      <td>1.0</td>\n",
              "      <td>39.07</td>\n",
              "    </tr>\n",
              "    <tr>\n",
              "      <th>1</th>\n",
              "      <td>Plot  Area</td>\n",
              "      <td>13</td>\n",
              "      <td>Chikka Tirupathi</td>\n",
              "      <td>4 Bedroom</td>\n",
              "      <td>Theanmp</td>\n",
              "      <td>2600</td>\n",
              "      <td>5.0</td>\n",
              "      <td>3.0</td>\n",
              "      <td>120.00</td>\n",
              "    </tr>\n",
              "    <tr>\n",
              "      <th>2</th>\n",
              "      <td>Built-up  Area</td>\n",
              "      <td>13</td>\n",
              "      <td>Uttarahalli</td>\n",
              "      <td>3 BHK</td>\n",
              "      <td>NaN</td>\n",
              "      <td>1440</td>\n",
              "      <td>2.0</td>\n",
              "      <td>3.0</td>\n",
              "      <td>62.00</td>\n",
              "    </tr>\n",
              "    <tr>\n",
              "      <th>3</th>\n",
              "      <td>Super built-up  Area</td>\n",
              "      <td>13</td>\n",
              "      <td>Lingadheeranahalli</td>\n",
              "      <td>3 BHK</td>\n",
              "      <td>Soiewre</td>\n",
              "      <td>1521</td>\n",
              "      <td>3.0</td>\n",
              "      <td>1.0</td>\n",
              "      <td>95.00</td>\n",
              "    </tr>\n",
              "    <tr>\n",
              "      <th>4</th>\n",
              "      <td>Super built-up  Area</td>\n",
              "      <td>13</td>\n",
              "      <td>Kothanur</td>\n",
              "      <td>2 BHK</td>\n",
              "      <td>NaN</td>\n",
              "      <td>1200</td>\n",
              "      <td>2.0</td>\n",
              "      <td>1.0</td>\n",
              "      <td>51.00</td>\n",
              "    </tr>\n",
              "  </tbody>\n",
              "</table>\n",
              "</div>"
            ],
            "text/plain": [
              "              area_type availability  ... balcony   price\n",
              "0  Super built-up  Area          Dec  ...     1.0   39.07\n",
              "1            Plot  Area           13  ...     3.0  120.00\n",
              "2        Built-up  Area           13  ...     3.0   62.00\n",
              "3  Super built-up  Area           13  ...     1.0   95.00\n",
              "4  Super built-up  Area           13  ...     1.0   51.00\n",
              "\n",
              "[5 rows x 9 columns]"
            ]
          },
          "metadata": {
            "tags": []
          },
          "execution_count": 8
        }
      ]
    },
    {
      "cell_type": "markdown",
      "metadata": {
        "id": "bYuMNZAv0iKu"
      },
      "source": [
        "# Handling 'size' columns"
      ]
    },
    {
      "cell_type": "code",
      "metadata": {
        "colab": {
          "base_uri": "https://localhost:8080/"
        },
        "id": "D9IEtZsr1aMa",
        "outputId": "98dfc2a5-020a-49f0-faef-6e73012bf162"
      },
      "source": [
        "data['size'].unique()"
      ],
      "execution_count": null,
      "outputs": [
        {
          "output_type": "execute_result",
          "data": {
            "text/plain": [
              "array(['2 BHK', '4 Bedroom', '3 BHK', '4 BHK', '6 Bedroom', '3 Bedroom',\n",
              "       '1 BHK', '1 RK', '1 Bedroom', '8 Bedroom', '2 Bedroom',\n",
              "       '7 Bedroom', '5 BHK', '7 BHK', '6 BHK', '5 Bedroom', '11 BHK',\n",
              "       '9 BHK', nan, '9 Bedroom', '27 BHK', '10 Bedroom', '11 Bedroom',\n",
              "       '10 BHK', '19 BHK', '16 BHK', '43 Bedroom', '14 BHK', '8 BHK',\n",
              "       '12 Bedroom', '13 BHK', '18 Bedroom'], dtype=object)"
            ]
          },
          "metadata": {
            "tags": []
          },
          "execution_count": 9
        }
      ]
    },
    {
      "cell_type": "code",
      "metadata": {
        "id": "mxe8hOoyiQE9",
        "colab": {
          "base_uri": "https://localhost:8080/",
          "height": 202
        },
        "outputId": "01e7d388-e58b-4348-8fe9-97ff2e50423b"
      },
      "source": [
        "data['size']=data['size'].fillna(data['size'].mode()[0])\n",
        "data['size']=data['size'].str.extract('(\\d+)')\n",
        "data['size']=data['size'].astype('float')\n",
        "\n",
        "test['size']=test['size'].fillna('2.0')\n",
        "test['size']=test['size'].str.extract('(\\d+)')\n",
        "test['size']=test['size'].astype('float')\n",
        "\n",
        "data.head()"
      ],
      "execution_count": null,
      "outputs": [
        {
          "output_type": "execute_result",
          "data": {
            "text/html": [
              "<div>\n",
              "<style scoped>\n",
              "    .dataframe tbody tr th:only-of-type {\n",
              "        vertical-align: middle;\n",
              "    }\n",
              "\n",
              "    .dataframe tbody tr th {\n",
              "        vertical-align: top;\n",
              "    }\n",
              "\n",
              "    .dataframe thead th {\n",
              "        text-align: right;\n",
              "    }\n",
              "</style>\n",
              "<table border=\"1\" class=\"dataframe\">\n",
              "  <thead>\n",
              "    <tr style=\"text-align: right;\">\n",
              "      <th></th>\n",
              "      <th>area_type</th>\n",
              "      <th>availability</th>\n",
              "      <th>location</th>\n",
              "      <th>size</th>\n",
              "      <th>society</th>\n",
              "      <th>total_sqft</th>\n",
              "      <th>bath</th>\n",
              "      <th>balcony</th>\n",
              "      <th>price</th>\n",
              "    </tr>\n",
              "  </thead>\n",
              "  <tbody>\n",
              "    <tr>\n",
              "      <th>0</th>\n",
              "      <td>Super built-up  Area</td>\n",
              "      <td>Dec</td>\n",
              "      <td>Electronic City Phase II</td>\n",
              "      <td>2.0</td>\n",
              "      <td>Coomee</td>\n",
              "      <td>1056</td>\n",
              "      <td>2.0</td>\n",
              "      <td>1.0</td>\n",
              "      <td>39.07</td>\n",
              "    </tr>\n",
              "    <tr>\n",
              "      <th>1</th>\n",
              "      <td>Plot  Area</td>\n",
              "      <td>13</td>\n",
              "      <td>Chikka Tirupathi</td>\n",
              "      <td>4.0</td>\n",
              "      <td>Theanmp</td>\n",
              "      <td>2600</td>\n",
              "      <td>5.0</td>\n",
              "      <td>3.0</td>\n",
              "      <td>120.00</td>\n",
              "    </tr>\n",
              "    <tr>\n",
              "      <th>2</th>\n",
              "      <td>Built-up  Area</td>\n",
              "      <td>13</td>\n",
              "      <td>Uttarahalli</td>\n",
              "      <td>3.0</td>\n",
              "      <td>NaN</td>\n",
              "      <td>1440</td>\n",
              "      <td>2.0</td>\n",
              "      <td>3.0</td>\n",
              "      <td>62.00</td>\n",
              "    </tr>\n",
              "    <tr>\n",
              "      <th>3</th>\n",
              "      <td>Super built-up  Area</td>\n",
              "      <td>13</td>\n",
              "      <td>Lingadheeranahalli</td>\n",
              "      <td>3.0</td>\n",
              "      <td>Soiewre</td>\n",
              "      <td>1521</td>\n",
              "      <td>3.0</td>\n",
              "      <td>1.0</td>\n",
              "      <td>95.00</td>\n",
              "    </tr>\n",
              "    <tr>\n",
              "      <th>4</th>\n",
              "      <td>Super built-up  Area</td>\n",
              "      <td>13</td>\n",
              "      <td>Kothanur</td>\n",
              "      <td>2.0</td>\n",
              "      <td>NaN</td>\n",
              "      <td>1200</td>\n",
              "      <td>2.0</td>\n",
              "      <td>1.0</td>\n",
              "      <td>51.00</td>\n",
              "    </tr>\n",
              "  </tbody>\n",
              "</table>\n",
              "</div>"
            ],
            "text/plain": [
              "              area_type availability  ... balcony   price\n",
              "0  Super built-up  Area          Dec  ...     1.0   39.07\n",
              "1            Plot  Area           13  ...     3.0  120.00\n",
              "2        Built-up  Area           13  ...     3.0   62.00\n",
              "3  Super built-up  Area           13  ...     1.0   95.00\n",
              "4  Super built-up  Area           13  ...     1.0   51.00\n",
              "\n",
              "[5 rows x 9 columns]"
            ]
          },
          "metadata": {
            "tags": []
          },
          "execution_count": 10
        }
      ]
    },
    {
      "cell_type": "markdown",
      "metadata": {
        "id": "EWg0wlf81qgk"
      },
      "source": [
        "# Handling 'bath', 'balcony' & 'location' columns"
      ]
    },
    {
      "cell_type": "code",
      "metadata": {
        "id": "vDYRsRxo1pgD"
      },
      "source": [
        "data['bath']=data['bath'].fillna(data['bath'].median())\n",
        "data['balcony']=data['balcony'].fillna(data['balcony'].median())\n",
        "data['location']=data['location'].fillna(data['location'].mode()[0])\n",
        "\n",
        "test['bath']=test['bath'].fillna(data['bath'].median())\n",
        "test['balcony']=test['balcony'].fillna(data['balcony'].median())\n",
        "test['location']=test['location'].fillna(data['location'].mode()[0])"
      ],
      "execution_count": null,
      "outputs": []
    },
    {
      "cell_type": "markdown",
      "metadata": {
        "id": "CEUVQvMF16Gm"
      },
      "source": [
        "# Handling 'total_sqft' column"
      ]
    },
    {
      "cell_type": "code",
      "metadata": {
        "id": "QjJraYglnfCo"
      },
      "source": [
        "import re\n",
        "def preprocess_total_sqft(my_list):\n",
        "    if len(my_list) == 1:\n",
        "        \n",
        "        try:\n",
        "            return float(my_list[0])\n",
        "        except:\n",
        "            strings = ['Sq. Meter', 'Sq. Yards', 'Perch', 'Acres', 'Cents', 'Guntha', 'Grounds']\n",
        "            split_list = re.split('(\\d*.*\\d)', my_list[0])[1:]\n",
        "            area = float(split_list[0])\n",
        "            type_of_area = split_list[1]\n",
        "            \n",
        "            if type_of_area == 'Sq. Meter':\n",
        "                area_in_sqft = area * 10.7639\n",
        "            elif type_of_area == 'Sq. Yards':\n",
        "                area_in_sqft = area * 9.0\n",
        "            elif type_of_area == 'Perch':\n",
        "                area_in_sqft = area * 272.25\n",
        "            elif type_of_area == 'Acres':\n",
        "                area_in_sqft = area * 43560.0\n",
        "            elif type_of_area == 'Cents':\n",
        "                area_in_sqft = area * 435.61545\n",
        "            elif type_of_area == 'Guntha':\n",
        "                area_in_sqft = area * 1089.0\n",
        "            elif type_of_area == 'Grounds':\n",
        "                area_in_sqft = area * 2400.0\n",
        "            return float(area_in_sqft)\n",
        "        \n",
        "    else:\n",
        "        return (float(my_list[0]) + float(my_list[1]))/2.0\n",
        "\n",
        "data['total_sqft'] = data.total_sqft.str.split('-').apply(preprocess_total_sqft)\n",
        "test['total_sqft'] = test.total_sqft.str.split('-').apply(preprocess_total_sqft)"
      ],
      "execution_count": null,
      "outputs": []
    },
    {
      "cell_type": "markdown",
      "metadata": {
        "id": "LtPqPYf64YzU"
      },
      "source": [
        "# Label encoding "
      ]
    },
    {
      "cell_type": "code",
      "metadata": {
        "id": "-33QOFcSy3_W"
      },
      "source": [
        "# from sklearn import preprocessing\n",
        "# categorical_columns = ['availability','area_type','location']\n",
        "\n",
        "# label_encoder = preprocessing.LabelEncoder() \n",
        "# for column in categorical_columns:\n",
        "#     label_encoder.fit(data[column].astype(str).append(test[column].astype(str)))\n",
        "#     data[column] = label_encoder.transform(data[column])\n",
        "#     test[column]=label_encoder.transform(test[column])\n",
        "\n",
        "# data.head()"
      ],
      "execution_count": null,
      "outputs": []
    },
    {
      "cell_type": "markdown",
      "metadata": {
        "id": "PEgHsOuKeQX3"
      },
      "source": [
        "# Target Encoding"
      ]
    },
    {
      "cell_type": "code",
      "metadata": {
        "colab": {
          "base_uri": "https://localhost:8080/",
          "height": 202
        },
        "id": "6KhviYTaWZxc",
        "outputId": "29a87ab0-dd2b-41f1-d02a-9546dc7a45dd"
      },
      "source": [
        "area_type_Encoding=data.groupby('area_type')['price'].mean()\n",
        "data['area_type']=data['area_type'].map(area_type_Encoding)\n",
        "test['area_type']=test['area_type'].map(area_type_Encoding)\n",
        "\n",
        "location_Encoding=data.groupby('location')['price'].mean()\n",
        "data['location']=data['location'].map(location_Encoding)\n",
        "test['location']=test['location'].map(location_Encoding)\n",
        "\n",
        "availability_Encoding=data.groupby('availability')['price'].mean()\n",
        "data['availability']=data['availability'].map(availability_Encoding)\n",
        "test['availability']=test['availability'].map(availability_Encoding)\n",
        "data.head()"
      ],
      "execution_count": null,
      "outputs": [
        {
          "output_type": "execute_result",
          "data": {
            "text/html": [
              "<div>\n",
              "<style scoped>\n",
              "    .dataframe tbody tr th:only-of-type {\n",
              "        vertical-align: middle;\n",
              "    }\n",
              "\n",
              "    .dataframe tbody tr th {\n",
              "        vertical-align: top;\n",
              "    }\n",
              "\n",
              "    .dataframe thead th {\n",
              "        text-align: right;\n",
              "    }\n",
              "</style>\n",
              "<table border=\"1\" class=\"dataframe\">\n",
              "  <thead>\n",
              "    <tr style=\"text-align: right;\">\n",
              "      <th></th>\n",
              "      <th>area_type</th>\n",
              "      <th>availability</th>\n",
              "      <th>location</th>\n",
              "      <th>size</th>\n",
              "      <th>society</th>\n",
              "      <th>total_sqft</th>\n",
              "      <th>bath</th>\n",
              "      <th>balcony</th>\n",
              "      <th>price</th>\n",
              "    </tr>\n",
              "  </thead>\n",
              "  <tbody>\n",
              "    <tr>\n",
              "      <th>0</th>\n",
              "      <td>92.971757</td>\n",
              "      <td>95.154464</td>\n",
              "      <td>48.316667</td>\n",
              "      <td>2.0</td>\n",
              "      <td>Coomee</td>\n",
              "      <td>1056.0</td>\n",
              "      <td>2.0</td>\n",
              "      <td>1.0</td>\n",
              "      <td>39.07</td>\n",
              "    </tr>\n",
              "    <tr>\n",
              "      <th>1</th>\n",
              "      <td>208.495486</td>\n",
              "      <td>115.179137</td>\n",
              "      <td>115.015882</td>\n",
              "      <td>4.0</td>\n",
              "      <td>Theanmp</td>\n",
              "      <td>2600.0</td>\n",
              "      <td>5.0</td>\n",
              "      <td>3.0</td>\n",
              "      <td>120.00</td>\n",
              "    </tr>\n",
              "    <tr>\n",
              "      <th>2</th>\n",
              "      <td>104.285498</td>\n",
              "      <td>115.179137</td>\n",
              "      <td>61.252527</td>\n",
              "      <td>3.0</td>\n",
              "      <td>NaN</td>\n",
              "      <td>1440.0</td>\n",
              "      <td>2.0</td>\n",
              "      <td>3.0</td>\n",
              "      <td>62.00</td>\n",
              "    </tr>\n",
              "    <tr>\n",
              "      <th>3</th>\n",
              "      <td>92.971757</td>\n",
              "      <td>115.179137</td>\n",
              "      <td>115.348261</td>\n",
              "      <td>3.0</td>\n",
              "      <td>Soiewre</td>\n",
              "      <td>1521.0</td>\n",
              "      <td>3.0</td>\n",
              "      <td>1.0</td>\n",
              "      <td>95.00</td>\n",
              "    </tr>\n",
              "    <tr>\n",
              "      <th>4</th>\n",
              "      <td>92.971757</td>\n",
              "      <td>115.179137</td>\n",
              "      <td>95.630303</td>\n",
              "      <td>2.0</td>\n",
              "      <td>NaN</td>\n",
              "      <td>1200.0</td>\n",
              "      <td>2.0</td>\n",
              "      <td>1.0</td>\n",
              "      <td>51.00</td>\n",
              "    </tr>\n",
              "  </tbody>\n",
              "</table>\n",
              "</div>"
            ],
            "text/plain": [
              "    area_type  availability    location  ...  bath balcony   price\n",
              "0   92.971757     95.154464   48.316667  ...   2.0     1.0   39.07\n",
              "1  208.495486    115.179137  115.015882  ...   5.0     3.0  120.00\n",
              "2  104.285498    115.179137   61.252527  ...   2.0     3.0   62.00\n",
              "3   92.971757    115.179137  115.348261  ...   3.0     1.0   95.00\n",
              "4   92.971757    115.179137   95.630303  ...   2.0     1.0   51.00\n",
              "\n",
              "[5 rows x 9 columns]"
            ]
          },
          "metadata": {
            "tags": []
          },
          "execution_count": 14
        }
      ]
    },
    {
      "cell_type": "markdown",
      "metadata": {
        "id": "kN16ZfsC43pl"
      },
      "source": [
        "# Outlier Handling in price and total_sqft"
      ]
    },
    {
      "cell_type": "code",
      "metadata": {
        "colab": {
          "base_uri": "https://localhost:8080/",
          "height": 297
        },
        "id": "uPjJDH3T5ISv",
        "outputId": "00be720d-8754-4a6b-bdef-f4af1a7b6afd"
      },
      "source": [
        "sns.boxplot(x=data['price'])"
      ],
      "execution_count": null,
      "outputs": [
        {
          "output_type": "execute_result",
          "data": {
            "text/plain": [
              "<matplotlib.axes._subplots.AxesSubplot at 0x7f9fc0cf4ef0>"
            ]
          },
          "metadata": {
            "tags": []
          },
          "execution_count": 15
        },
        {
          "output_type": "display_data",
          "data": {
            "image/png": "[encoded data removed]",
            "text/plain": [
              "<Figure size 432x288 with 1 Axes>"
            ]
          },
          "metadata": {
            "tags": [],
            "needs_background": "light"
          }
        }
      ]
    },
    {
      "cell_type": "code",
      "metadata": {
        "colab": {
          "base_uri": "https://localhost:8080/",
          "height": 297
        },
        "id": "coIbEtB96J5q",
        "outputId": "47e27512-6ccc-4725-bc6f-264f8c9a9b45"
      },
      "source": [
        "sns.boxplot(x=data['total_sqft'])"
      ],
      "execution_count": null,
      "outputs": [
        {
          "output_type": "execute_result",
          "data": {
            "text/plain": [
              "<matplotlib.axes._subplots.AxesSubplot at 0x7f9fc0c97be0>"
            ]
          },
          "metadata": {
            "tags": []
          },
          "execution_count": 16
        },
        {
          "output_type": "display_data",
          "data": {
            "image/png": "[encoded data removed]",
            "text/plain": [
              "<Figure size 432x288 with 1 Axes>"
            ]
          },
          "metadata": {
            "tags": [],
            "needs_background": "light"
          }
        }
      ]
    },
    {
      "cell_type": "code",
      "metadata": {
        "colab": {
          "base_uri": "https://localhost:8080/"
        },
        "id": "qLUoa5BjVhmX",
        "outputId": "c00fdb88-115f-4b00-8fe7-8f85acffbd3a"
      },
      "source": [
        "from scipy import stats\n",
        "data['z_score_price'] = np.abs(stats.zscore(data['price']))\n",
        "data['z_score_sqft']=np.abs(stats.zscore(data['total_sqft']))\n",
        "data=data[data['z_score_price']<=3]\n",
        "data=data[data['z_score_sqft']<=3]\n",
        "data.drop(columns=['z_score_price','z_score_sqft'],axis=1,inplace=True)\n",
        "data.shape"
      ],
      "execution_count": null,
      "outputs": [
        {
          "output_type": "execute_result",
          "data": {
            "text/plain": [
              "(13118, 9)"
            ]
          },
          "metadata": {
            "tags": []
          },
          "execution_count": 17
        }
      ]
    },
    {
      "cell_type": "markdown",
      "metadata": {
        "id": "qdli3eBt6apQ"
      },
      "source": [
        "# Feature Engineering"
      ]
    },
    {
      "cell_type": "code",
      "metadata": {
        "id": "Br-8lnrgy3_X"
      },
      "source": [
        "data['price']=data['price']*100000"
      ],
      "execution_count": null,
      "outputs": []
    },
    {
      "cell_type": "code",
      "metadata": {
        "colab": {
          "base_uri": "https://localhost:8080/",
          "height": 415
        },
        "id": "EO7aNWFnkcrR",
        "outputId": "e7ae3c82-bed7-4952-c455-a24a7def6ba9"
      },
      "source": [
        "lookup=data.groupby(['location','society'])['price'].agg(['mean']).reset_index()\n",
        "lookup=lookup.rename(columns={'mean':'location_society_mean'})\n",
        "data=pd.merge(data,lookup,how='left',left_on=['location','society'],right_on=['location','society'])\n",
        "test=pd.merge(test,lookup,how='left',left_on=['location','society'],right_on=['location','society'])\n",
        "lookup"
      ],
      "execution_count": null,
      "outputs": [
        {
          "output_type": "execute_result",
          "data": {
            "text/html": [
              "<div>\n",
              "<style scoped>\n",
              "    .dataframe tbody tr th:only-of-type {\n",
              "        vertical-align: middle;\n",
              "    }\n",
              "\n",
              "    .dataframe tbody tr th {\n",
              "        vertical-align: top;\n",
              "    }\n",
              "\n",
              "    .dataframe thead th {\n",
              "        text-align: right;\n",
              "    }\n",
              "</style>\n",
              "<table border=\"1\" class=\"dataframe\">\n",
              "  <thead>\n",
              "    <tr style=\"text-align: right;\">\n",
              "      <th></th>\n",
              "      <th>location</th>\n",
              "      <th>society</th>\n",
              "      <th>location_society_mean</th>\n",
              "    </tr>\n",
              "  </thead>\n",
              "  <tbody>\n",
              "    <tr>\n",
              "      <th>0</th>\n",
              "      <td>20.000000</td>\n",
              "      <td>Ardaseo</td>\n",
              "      <td>2000000.0</td>\n",
              "    </tr>\n",
              "    <tr>\n",
              "      <th>1</th>\n",
              "      <td>22.000000</td>\n",
              "      <td>Jaensa</td>\n",
              "      <td>2200000.0</td>\n",
              "    </tr>\n",
              "    <tr>\n",
              "      <th>2</th>\n",
              "      <td>22.890000</td>\n",
              "      <td>Rosha I</td>\n",
              "      <td>2289000.0</td>\n",
              "    </tr>\n",
              "    <tr>\n",
              "      <th>3</th>\n",
              "      <td>23.250000</td>\n",
              "      <td>GMown E</td>\n",
              "      <td>2325000.0</td>\n",
              "    </tr>\n",
              "    <tr>\n",
              "      <th>4</th>\n",
              "      <td>23.900000</td>\n",
              "      <td>AsNowre</td>\n",
              "      <td>2390000.0</td>\n",
              "    </tr>\n",
              "    <tr>\n",
              "      <th>...</th>\n",
              "      <td>...</td>\n",
              "      <td>...</td>\n",
              "      <td>...</td>\n",
              "    </tr>\n",
              "    <tr>\n",
              "      <th>2707</th>\n",
              "      <td>824.384615</td>\n",
              "      <td>Lelia M</td>\n",
              "      <td>50100000.0</td>\n",
              "    </tr>\n",
              "    <tr>\n",
              "      <th>2708</th>\n",
              "      <td>1068.000000</td>\n",
              "      <td>CoDast</td>\n",
              "      <td>53600000.0</td>\n",
              "    </tr>\n",
              "    <tr>\n",
              "      <th>2709</th>\n",
              "      <td>1093.388889</td>\n",
              "      <td>Saensar</td>\n",
              "      <td>6000000.0</td>\n",
              "    </tr>\n",
              "    <tr>\n",
              "      <th>2710</th>\n",
              "      <td>1167.714286</td>\n",
              "      <td>Inshath</td>\n",
              "      <td>17200000.0</td>\n",
              "    </tr>\n",
              "    <tr>\n",
              "      <th>2711</th>\n",
              "      <td>1167.714286</td>\n",
              "      <td>Vantspa</td>\n",
              "      <td>12600000.0</td>\n",
              "    </tr>\n",
              "  </tbody>\n",
              "</table>\n",
              "<p>2712 rows × 3 columns</p>\n",
              "</div>"
            ],
            "text/plain": [
              "         location  society  location_society_mean\n",
              "0       20.000000  Ardaseo              2000000.0\n",
              "1       22.000000  Jaensa               2200000.0\n",
              "2       22.890000  Rosha I              2289000.0\n",
              "3       23.250000  GMown E              2325000.0\n",
              "4       23.900000  AsNowre              2390000.0\n",
              "...           ...      ...                    ...\n",
              "2707   824.384615  Lelia M             50100000.0\n",
              "2708  1068.000000  CoDast              53600000.0\n",
              "2709  1093.388889  Saensar              6000000.0\n",
              "2710  1167.714286  Inshath             17200000.0\n",
              "2711  1167.714286  Vantspa             12600000.0\n",
              "\n",
              "[2712 rows x 3 columns]"
            ]
          },
          "metadata": {
            "tags": []
          },
          "execution_count": 19
        }
      ]
    },
    {
      "cell_type": "code",
      "metadata": {
        "colab": {
          "base_uri": "https://localhost:8080/",
          "height": 415
        },
        "id": "WJD3sWTz60J_",
        "outputId": "1c7a8320-7578-4259-8488-76ee87776bcf"
      },
      "source": [
        "lookup1=data.groupby(['society','size'])['price'].agg(['mean']).reset_index()\n",
        "lookup1=lookup1.rename(columns={'mean':'society_size_mean'})\n",
        "data=pd.merge(data,lookup1,how='left',left_on=['size','society'],right_on=['size','society'])\n",
        "test=pd.merge(test,lookup1,how='left',left_on=['size','society'],right_on=['size','society'])\n",
        "lookup1"
      ],
      "execution_count": null,
      "outputs": [
        {
          "output_type": "execute_result",
          "data": {
            "text/html": [
              "<div>\n",
              "<style scoped>\n",
              "    .dataframe tbody tr th:only-of-type {\n",
              "        vertical-align: middle;\n",
              "    }\n",
              "\n",
              "    .dataframe tbody tr th {\n",
              "        vertical-align: top;\n",
              "    }\n",
              "\n",
              "    .dataframe thead th {\n",
              "        text-align: right;\n",
              "    }\n",
              "</style>\n",
              "<table border=\"1\" class=\"dataframe\">\n",
              "  <thead>\n",
              "    <tr style=\"text-align: right;\">\n",
              "      <th></th>\n",
              "      <th>society</th>\n",
              "      <th>size</th>\n",
              "      <th>society_size_mean</th>\n",
              "    </tr>\n",
              "  </thead>\n",
              "  <tbody>\n",
              "    <tr>\n",
              "      <th>0</th>\n",
              "      <td>3Codeli</td>\n",
              "      <td>2.0</td>\n",
              "      <td>5850000.0</td>\n",
              "    </tr>\n",
              "    <tr>\n",
              "      <th>1</th>\n",
              "      <td>7 ise P</td>\n",
              "      <td>3.0</td>\n",
              "      <td>5000000.0</td>\n",
              "    </tr>\n",
              "    <tr>\n",
              "      <th>2</th>\n",
              "      <td>A idse</td>\n",
              "      <td>2.0</td>\n",
              "      <td>5000000.0</td>\n",
              "    </tr>\n",
              "    <tr>\n",
              "      <th>3</th>\n",
              "      <td>A rtsai</td>\n",
              "      <td>3.0</td>\n",
              "      <td>7300000.0</td>\n",
              "    </tr>\n",
              "    <tr>\n",
              "      <th>4</th>\n",
              "      <td>ACersd</td>\n",
              "      <td>2.0</td>\n",
              "      <td>11500000.0</td>\n",
              "    </tr>\n",
              "    <tr>\n",
              "      <th>...</th>\n",
              "      <td>...</td>\n",
              "      <td>...</td>\n",
              "      <td>...</td>\n",
              "    </tr>\n",
              "    <tr>\n",
              "      <th>3469</th>\n",
              "      <td>Zostaa</td>\n",
              "      <td>2.0</td>\n",
              "      <td>6200000.0</td>\n",
              "    </tr>\n",
              "    <tr>\n",
              "      <th>3470</th>\n",
              "      <td>i1ncyRe</td>\n",
              "      <td>2.0</td>\n",
              "      <td>5000000.0</td>\n",
              "    </tr>\n",
              "    <tr>\n",
              "      <th>3471</th>\n",
              "      <td>i1odsne</td>\n",
              "      <td>2.0</td>\n",
              "      <td>4000000.0</td>\n",
              "    </tr>\n",
              "    <tr>\n",
              "      <th>3472</th>\n",
              "      <td>i1rtsCo</td>\n",
              "      <td>2.0</td>\n",
              "      <td>6000000.0</td>\n",
              "    </tr>\n",
              "    <tr>\n",
              "      <th>3473</th>\n",
              "      <td>i1rtsCo</td>\n",
              "      <td>3.0</td>\n",
              "      <td>6065000.0</td>\n",
              "    </tr>\n",
              "  </tbody>\n",
              "</table>\n",
              "<p>3474 rows × 3 columns</p>\n",
              "</div>"
            ],
            "text/plain": [
              "      society  size  society_size_mean\n",
              "0     3Codeli   2.0          5850000.0\n",
              "1     7 ise P   3.0          5000000.0\n",
              "2     A idse    2.0          5000000.0\n",
              "3     A rtsai   3.0          7300000.0\n",
              "4     ACersd    2.0         11500000.0\n",
              "...       ...   ...                ...\n",
              "3469  Zostaa    2.0          6200000.0\n",
              "3470  i1ncyRe   2.0          5000000.0\n",
              "3471  i1odsne   2.0          4000000.0\n",
              "3472  i1rtsCo   2.0          6000000.0\n",
              "3473  i1rtsCo   3.0          6065000.0\n",
              "\n",
              "[3474 rows x 3 columns]"
            ]
          },
          "metadata": {
            "tags": []
          },
          "execution_count": 20
        }
      ]
    },
    {
      "cell_type": "code",
      "metadata": {
        "colab": {
          "base_uri": "https://localhost:8080/",
          "height": 1000
        },
        "id": "FQDjcenmLdUZ",
        "outputId": "1f37154e-6702-4b1c-9731-5322b27b961b"
      },
      "source": [
        "lookup2=data.groupby(['area_type','size'])['price'].agg(['mean']).reset_index()\n",
        "lookup2=lookup2.rename(columns={'mean':'area_size_mean'})\n",
        "data=pd.merge(data,lookup2,how='left',left_on=['area_type','size'],right_on=['area_type','size'])\n",
        "test=pd.merge(test,lookup2,how='left',left_on=['area_type','size'],right_on=['area_type','size'])\n",
        "lookup2"
      ],
      "execution_count": null,
      "outputs": [
        {
          "output_type": "execute_result",
          "data": {
            "text/html": [
              "<div>\n",
              "<style scoped>\n",
              "    .dataframe tbody tr th:only-of-type {\n",
              "        vertical-align: middle;\n",
              "    }\n",
              "\n",
              "    .dataframe tbody tr th {\n",
              "        vertical-align: top;\n",
              "    }\n",
              "\n",
              "    .dataframe thead th {\n",
              "        text-align: right;\n",
              "    }\n",
              "</style>\n",
              "<table border=\"1\" class=\"dataframe\">\n",
              "  <thead>\n",
              "    <tr style=\"text-align: right;\">\n",
              "      <th></th>\n",
              "      <th>area_type</th>\n",
              "      <th>size</th>\n",
              "      <th>area_size_mean</th>\n",
              "    </tr>\n",
              "  </thead>\n",
              "  <tbody>\n",
              "    <tr>\n",
              "      <th>0</th>\n",
              "      <td>89.502356</td>\n",
              "      <td>1.0</td>\n",
              "      <td>4.388583e+06</td>\n",
              "    </tr>\n",
              "    <tr>\n",
              "      <th>1</th>\n",
              "      <td>89.502356</td>\n",
              "      <td>2.0</td>\n",
              "      <td>5.766750e+06</td>\n",
              "    </tr>\n",
              "    <tr>\n",
              "      <th>2</th>\n",
              "      <td>89.502356</td>\n",
              "      <td>3.0</td>\n",
              "      <td>1.056037e+07</td>\n",
              "    </tr>\n",
              "    <tr>\n",
              "      <th>3</th>\n",
              "      <td>89.502356</td>\n",
              "      <td>4.0</td>\n",
              "      <td>1.465714e+07</td>\n",
              "    </tr>\n",
              "    <tr>\n",
              "      <th>4</th>\n",
              "      <td>89.502356</td>\n",
              "      <td>5.0</td>\n",
              "      <td>2.400000e+07</td>\n",
              "    </tr>\n",
              "    <tr>\n",
              "      <th>5</th>\n",
              "      <td>89.502356</td>\n",
              "      <td>6.0</td>\n",
              "      <td>1.300000e+07</td>\n",
              "    </tr>\n",
              "    <tr>\n",
              "      <th>6</th>\n",
              "      <td>89.502356</td>\n",
              "      <td>7.0</td>\n",
              "      <td>1.000000e+07</td>\n",
              "    </tr>\n",
              "    <tr>\n",
              "      <th>7</th>\n",
              "      <td>89.502356</td>\n",
              "      <td>8.0</td>\n",
              "      <td>1.450000e+07</td>\n",
              "    </tr>\n",
              "    <tr>\n",
              "      <th>8</th>\n",
              "      <td>89.502356</td>\n",
              "      <td>9.0</td>\n",
              "      <td>5.000000e+07</td>\n",
              "    </tr>\n",
              "    <tr>\n",
              "      <th>9</th>\n",
              "      <td>92.971757</td>\n",
              "      <td>1.0</td>\n",
              "      <td>3.617052e+06</td>\n",
              "    </tr>\n",
              "    <tr>\n",
              "      <th>10</th>\n",
              "      <td>92.971757</td>\n",
              "      <td>2.0</td>\n",
              "      <td>5.797035e+06</td>\n",
              "    </tr>\n",
              "    <tr>\n",
              "      <th>11</th>\n",
              "      <td>92.971757</td>\n",
              "      <td>3.0</td>\n",
              "      <td>1.029019e+07</td>\n",
              "    </tr>\n",
              "    <tr>\n",
              "      <th>12</th>\n",
              "      <td>92.971757</td>\n",
              "      <td>4.0</td>\n",
              "      <td>2.388065e+07</td>\n",
              "    </tr>\n",
              "    <tr>\n",
              "      <th>13</th>\n",
              "      <td>92.971757</td>\n",
              "      <td>5.0</td>\n",
              "      <td>2.527917e+07</td>\n",
              "    </tr>\n",
              "    <tr>\n",
              "      <th>14</th>\n",
              "      <td>92.971757</td>\n",
              "      <td>6.0</td>\n",
              "      <td>1.555000e+07</td>\n",
              "    </tr>\n",
              "    <tr>\n",
              "      <th>15</th>\n",
              "      <td>92.971757</td>\n",
              "      <td>7.0</td>\n",
              "      <td>1.612727e+07</td>\n",
              "    </tr>\n",
              "    <tr>\n",
              "      <th>16</th>\n",
              "      <td>92.971757</td>\n",
              "      <td>8.0</td>\n",
              "      <td>2.033333e+07</td>\n",
              "    </tr>\n",
              "    <tr>\n",
              "      <th>17</th>\n",
              "      <td>92.971757</td>\n",
              "      <td>9.0</td>\n",
              "      <td>2.272000e+07</td>\n",
              "    </tr>\n",
              "    <tr>\n",
              "      <th>18</th>\n",
              "      <td>92.971757</td>\n",
              "      <td>10.0</td>\n",
              "      <td>3.425000e+07</td>\n",
              "    </tr>\n",
              "    <tr>\n",
              "      <th>19</th>\n",
              "      <td>92.971757</td>\n",
              "      <td>11.0</td>\n",
              "      <td>2.550000e+07</td>\n",
              "    </tr>\n",
              "    <tr>\n",
              "      <th>20</th>\n",
              "      <td>92.971757</td>\n",
              "      <td>13.0</td>\n",
              "      <td>2.750000e+07</td>\n",
              "    </tr>\n",
              "    <tr>\n",
              "      <th>21</th>\n",
              "      <td>92.971757</td>\n",
              "      <td>14.0</td>\n",
              "      <td>1.250000e+07</td>\n",
              "    </tr>\n",
              "    <tr>\n",
              "      <th>22</th>\n",
              "      <td>92.971757</td>\n",
              "      <td>16.0</td>\n",
              "      <td>5.500000e+07</td>\n",
              "    </tr>\n",
              "    <tr>\n",
              "      <th>23</th>\n",
              "      <td>92.971757</td>\n",
              "      <td>19.0</td>\n",
              "      <td>4.900000e+07</td>\n",
              "    </tr>\n",
              "    <tr>\n",
              "      <th>24</th>\n",
              "      <td>92.971757</td>\n",
              "      <td>27.0</td>\n",
              "      <td>2.300000e+07</td>\n",
              "    </tr>\n",
              "    <tr>\n",
              "      <th>25</th>\n",
              "      <td>104.285498</td>\n",
              "      <td>1.0</td>\n",
              "      <td>4.766457e+06</td>\n",
              "    </tr>\n",
              "    <tr>\n",
              "      <th>26</th>\n",
              "      <td>104.285498</td>\n",
              "      <td>2.0</td>\n",
              "      <td>5.691429e+06</td>\n",
              "    </tr>\n",
              "    <tr>\n",
              "      <th>27</th>\n",
              "      <td>104.285498</td>\n",
              "      <td>3.0</td>\n",
              "      <td>1.066265e+07</td>\n",
              "    </tr>\n",
              "    <tr>\n",
              "      <th>28</th>\n",
              "      <td>104.285498</td>\n",
              "      <td>4.0</td>\n",
              "      <td>2.095158e+07</td>\n",
              "    </tr>\n",
              "    <tr>\n",
              "      <th>29</th>\n",
              "      <td>104.285498</td>\n",
              "      <td>5.0</td>\n",
              "      <td>1.810515e+07</td>\n",
              "    </tr>\n",
              "    <tr>\n",
              "      <th>30</th>\n",
              "      <td>104.285498</td>\n",
              "      <td>6.0</td>\n",
              "      <td>1.607021e+07</td>\n",
              "    </tr>\n",
              "    <tr>\n",
              "      <th>31</th>\n",
              "      <td>104.285498</td>\n",
              "      <td>7.0</td>\n",
              "      <td>1.597200e+07</td>\n",
              "    </tr>\n",
              "    <tr>\n",
              "      <th>32</th>\n",
              "      <td>104.285498</td>\n",
              "      <td>8.0</td>\n",
              "      <td>1.388750e+07</td>\n",
              "    </tr>\n",
              "    <tr>\n",
              "      <th>33</th>\n",
              "      <td>104.285498</td>\n",
              "      <td>9.0</td>\n",
              "      <td>1.808333e+07</td>\n",
              "    </tr>\n",
              "    <tr>\n",
              "      <th>34</th>\n",
              "      <td>104.285498</td>\n",
              "      <td>10.0</td>\n",
              "      <td>2.000000e+07</td>\n",
              "    </tr>\n",
              "    <tr>\n",
              "      <th>35</th>\n",
              "      <td>208.495486</td>\n",
              "      <td>1.0</td>\n",
              "      <td>6.817537e+06</td>\n",
              "    </tr>\n",
              "    <tr>\n",
              "      <th>36</th>\n",
              "      <td>208.495486</td>\n",
              "      <td>2.0</td>\n",
              "      <td>9.124942e+06</td>\n",
              "    </tr>\n",
              "    <tr>\n",
              "      <th>37</th>\n",
              "      <td>208.495486</td>\n",
              "      <td>3.0</td>\n",
              "      <td>1.434015e+07</td>\n",
              "    </tr>\n",
              "    <tr>\n",
              "      <th>38</th>\n",
              "      <td>208.495486</td>\n",
              "      <td>4.0</td>\n",
              "      <td>2.038315e+07</td>\n",
              "    </tr>\n",
              "    <tr>\n",
              "      <th>39</th>\n",
              "      <td>208.495486</td>\n",
              "      <td>5.0</td>\n",
              "      <td>1.980795e+07</td>\n",
              "    </tr>\n",
              "    <tr>\n",
              "      <th>40</th>\n",
              "      <td>208.495486</td>\n",
              "      <td>6.0</td>\n",
              "      <td>1.889650e+07</td>\n",
              "    </tr>\n",
              "    <tr>\n",
              "      <th>41</th>\n",
              "      <td>208.495486</td>\n",
              "      <td>7.0</td>\n",
              "      <td>1.889123e+07</td>\n",
              "    </tr>\n",
              "    <tr>\n",
              "      <th>42</th>\n",
              "      <td>208.495486</td>\n",
              "      <td>8.0</td>\n",
              "      <td>1.823538e+07</td>\n",
              "    </tr>\n",
              "    <tr>\n",
              "      <th>43</th>\n",
              "      <td>208.495486</td>\n",
              "      <td>9.0</td>\n",
              "      <td>1.942895e+07</td>\n",
              "    </tr>\n",
              "    <tr>\n",
              "      <th>44</th>\n",
              "      <td>208.495486</td>\n",
              "      <td>10.0</td>\n",
              "      <td>2.594444e+07</td>\n",
              "    </tr>\n",
              "    <tr>\n",
              "      <th>45</th>\n",
              "      <td>208.495486</td>\n",
              "      <td>11.0</td>\n",
              "      <td>1.600000e+07</td>\n",
              "    </tr>\n",
              "    <tr>\n",
              "      <th>46</th>\n",
              "      <td>208.495486</td>\n",
              "      <td>12.0</td>\n",
              "      <td>3.000000e+07</td>\n",
              "    </tr>\n",
              "    <tr>\n",
              "      <th>47</th>\n",
              "      <td>208.495486</td>\n",
              "      <td>18.0</td>\n",
              "      <td>2.000000e+07</td>\n",
              "    </tr>\n",
              "  </tbody>\n",
              "</table>\n",
              "</div>"
            ],
            "text/plain": [
              "     area_type  size  area_size_mean\n",
              "0    89.502356   1.0    4.388583e+06\n",
              "1    89.502356   2.0    5.766750e+06\n",
              "2    89.502356   3.0    1.056037e+07\n",
              "3    89.502356   4.0    1.465714e+07\n",
              "4    89.502356   5.0    2.400000e+07\n",
              "5    89.502356   6.0    1.300000e+07\n",
              "6    89.502356   7.0    1.000000e+07\n",
              "7    89.502356   8.0    1.450000e+07\n",
              "8    89.502356   9.0    5.000000e+07\n",
              "9    92.971757   1.0    3.617052e+06\n",
              "10   92.971757   2.0    5.797035e+06\n",
              "11   92.971757   3.0    1.029019e+07\n",
              "12   92.971757   4.0    2.388065e+07\n",
              "13   92.971757   5.0    2.527917e+07\n",
              "14   92.971757   6.0    1.555000e+07\n",
              "15   92.971757   7.0    1.612727e+07\n",
              "16   92.971757   8.0    2.033333e+07\n",
              "17   92.971757   9.0    2.272000e+07\n",
              "18   92.971757  10.0    3.425000e+07\n",
              "19   92.971757  11.0    2.550000e+07\n",
              "20   92.971757  13.0    2.750000e+07\n",
              "21   92.971757  14.0    1.250000e+07\n",
              "22   92.971757  16.0    5.500000e+07\n",
              "23   92.971757  19.0    4.900000e+07\n",
              "24   92.971757  27.0    2.300000e+07\n",
              "25  104.285498   1.0    4.766457e+06\n",
              "26  104.285498   2.0    5.691429e+06\n",
              "27  104.285498   3.0    1.066265e+07\n",
              "28  104.285498   4.0    2.095158e+07\n",
              "29  104.285498   5.0    1.810515e+07\n",
              "30  104.285498   6.0    1.607021e+07\n",
              "31  104.285498   7.0    1.597200e+07\n",
              "32  104.285498   8.0    1.388750e+07\n",
              "33  104.285498   9.0    1.808333e+07\n",
              "34  104.285498  10.0    2.000000e+07\n",
              "35  208.495486   1.0    6.817537e+06\n",
              "36  208.495486   2.0    9.124942e+06\n",
              "37  208.495486   3.0    1.434015e+07\n",
              "38  208.495486   4.0    2.038315e+07\n",
              "39  208.495486   5.0    1.980795e+07\n",
              "40  208.495486   6.0    1.889650e+07\n",
              "41  208.495486   7.0    1.889123e+07\n",
              "42  208.495486   8.0    1.823538e+07\n",
              "43  208.495486   9.0    1.942895e+07\n",
              "44  208.495486  10.0    2.594444e+07\n",
              "45  208.495486  11.0    1.600000e+07\n",
              "46  208.495486  12.0    3.000000e+07\n",
              "47  208.495486  18.0    2.000000e+07"
            ]
          },
          "metadata": {
            "tags": []
          },
          "execution_count": 21
        }
      ]
    },
    {
      "cell_type": "code",
      "metadata": {
        "id": "dvD7wG2AVi1I"
      },
      "source": [
        "data['price_per_sqft']=data['price']/data['total_sqft']\n",
        "price_per_sqft_area_wise=data.groupby('area_type')['price_per_sqft'].mean()\n",
        "data['price_per_sqft_area_wise']=data['area_type'].map(price_per_sqft_area_wise)\n",
        "data.drop(['price_per_sqft'],axis=1,inplace=True)\n",
        "test['price_per_sqft_area_wise']=test['area_type'].map(price_per_sqft_area_wise)"
      ],
      "execution_count": null,
      "outputs": []
    },
    {
      "cell_type": "code",
      "metadata": {
        "id": "q2xSKOq5L_WN"
      },
      "source": [
        "data['price']=data['price']/100000"
      ],
      "execution_count": null,
      "outputs": []
    },
    {
      "cell_type": "code",
      "metadata": {
        "id": "RWQJUBMWWKO4"
      },
      "source": [
        "data.drop(columns=['society'],axis=1,inplace=True)\n",
        "test.drop(columns=['society'],axis=1,inplace=True)"
      ],
      "execution_count": null,
      "outputs": []
    },
    {
      "cell_type": "code",
      "metadata": {
        "colab": {
          "base_uri": "https://localhost:8080/",
          "height": 222
        },
        "id": "BOx63xcCL0Sp",
        "outputId": "4d7db952-30eb-4650-85c6-31c449d1bcec"
      },
      "source": [
        "data.head()"
      ],
      "execution_count": null,
      "outputs": [
        {
          "output_type": "execute_result",
          "data": {
            "text/html": [
              "<div>\n",
              "<style scoped>\n",
              "    .dataframe tbody tr th:only-of-type {\n",
              "        vertical-align: middle;\n",
              "    }\n",
              "\n",
              "    .dataframe tbody tr th {\n",
              "        vertical-align: top;\n",
              "    }\n",
              "\n",
              "    .dataframe thead th {\n",
              "        text-align: right;\n",
              "    }\n",
              "</style>\n",
              "<table border=\"1\" class=\"dataframe\">\n",
              "  <thead>\n",
              "    <tr style=\"text-align: right;\">\n",
              "      <th></th>\n",
              "      <th>area_type</th>\n",
              "      <th>availability</th>\n",
              "      <th>location</th>\n",
              "      <th>size</th>\n",
              "      <th>total_sqft</th>\n",
              "      <th>bath</th>\n",
              "      <th>balcony</th>\n",
              "      <th>price</th>\n",
              "      <th>location_society_mean</th>\n",
              "      <th>society_size_mean</th>\n",
              "      <th>area_size_mean</th>\n",
              "      <th>price_per_sqft_area_wise</th>\n",
              "    </tr>\n",
              "  </thead>\n",
              "  <tbody>\n",
              "    <tr>\n",
              "      <th>0</th>\n",
              "      <td>92.971757</td>\n",
              "      <td>95.154464</td>\n",
              "      <td>48.316667</td>\n",
              "      <td>2.0</td>\n",
              "      <td>1056.0</td>\n",
              "      <td>2.0</td>\n",
              "      <td>1.0</td>\n",
              "      <td>39.07</td>\n",
              "      <td>5.381000e+06</td>\n",
              "      <td>5.414500e+06</td>\n",
              "      <td>5.797035e+06</td>\n",
              "      <td>5575.035958</td>\n",
              "    </tr>\n",
              "    <tr>\n",
              "      <th>1</th>\n",
              "      <td>208.495486</td>\n",
              "      <td>115.179137</td>\n",
              "      <td>115.015882</td>\n",
              "      <td>4.0</td>\n",
              "      <td>2600.0</td>\n",
              "      <td>5.0</td>\n",
              "      <td>3.0</td>\n",
              "      <td>120.00</td>\n",
              "      <td>1.216154e+07</td>\n",
              "      <td>1.251111e+07</td>\n",
              "      <td>2.038315e+07</td>\n",
              "      <td>17873.335733</td>\n",
              "    </tr>\n",
              "    <tr>\n",
              "      <th>2</th>\n",
              "      <td>104.285498</td>\n",
              "      <td>115.179137</td>\n",
              "      <td>61.252527</td>\n",
              "      <td>3.0</td>\n",
              "      <td>1440.0</td>\n",
              "      <td>2.0</td>\n",
              "      <td>3.0</td>\n",
              "      <td>62.00</td>\n",
              "      <td>NaN</td>\n",
              "      <td>NaN</td>\n",
              "      <td>1.066265e+07</td>\n",
              "      <td>7214.517668</td>\n",
              "    </tr>\n",
              "    <tr>\n",
              "      <th>3</th>\n",
              "      <td>92.971757</td>\n",
              "      <td>115.179137</td>\n",
              "      <td>115.348261</td>\n",
              "      <td>3.0</td>\n",
              "      <td>1521.0</td>\n",
              "      <td>3.0</td>\n",
              "      <td>1.0</td>\n",
              "      <td>95.00</td>\n",
              "      <td>1.168955e+07</td>\n",
              "      <td>1.107737e+07</td>\n",
              "      <td>1.029019e+07</td>\n",
              "      <td>5575.035958</td>\n",
              "    </tr>\n",
              "    <tr>\n",
              "      <th>4</th>\n",
              "      <td>92.971757</td>\n",
              "      <td>115.179137</td>\n",
              "      <td>95.630303</td>\n",
              "      <td>2.0</td>\n",
              "      <td>1200.0</td>\n",
              "      <td>2.0</td>\n",
              "      <td>1.0</td>\n",
              "      <td>51.00</td>\n",
              "      <td>NaN</td>\n",
              "      <td>NaN</td>\n",
              "      <td>5.797035e+06</td>\n",
              "      <td>5575.035958</td>\n",
              "    </tr>\n",
              "  </tbody>\n",
              "</table>\n",
              "</div>"
            ],
            "text/plain": [
              "    area_type  availability  ...  area_size_mean  price_per_sqft_area_wise\n",
              "0   92.971757     95.154464  ...    5.797035e+06               5575.035958\n",
              "1  208.495486    115.179137  ...    2.038315e+07              17873.335733\n",
              "2  104.285498    115.179137  ...    1.066265e+07               7214.517668\n",
              "3   92.971757    115.179137  ...    1.029019e+07               5575.035958\n",
              "4   92.971757    115.179137  ...    5.797035e+06               5575.035958\n",
              "\n",
              "[5 rows x 12 columns]"
            ]
          },
          "metadata": {
            "tags": []
          },
          "execution_count": 25
        }
      ]
    },
    {
      "cell_type": "markdown",
      "metadata": {
        "id": "1IG6BV83MmnK"
      },
      "source": [
        "# Train Validation Split"
      ]
    },
    {
      "cell_type": "code",
      "metadata": {
        "colab": {
          "base_uri": "https://localhost:8080/"
        },
        "id": "sI8wdr2FMt3o",
        "outputId": "67833af5-0287-4d3b-f4a6-f8ddf1b52320"
      },
      "source": [
        "from sklearn.model_selection import train_test_split\n",
        "X_train, X_validation, y_train, y_validation = train_test_split(\n",
        "    data.drop(columns=['price']), data['price'], test_size=0.2, random_state=2)\n",
        "\n",
        "X_train.shape, X_validation.shape"
      ],
      "execution_count": null,
      "outputs": [
        {
          "output_type": "execute_result",
          "data": {
            "text/plain": [
              "((10494, 11), (2624, 11))"
            ]
          },
          "metadata": {
            "tags": []
          },
          "execution_count": 26
        }
      ]
    },
    {
      "cell_type": "markdown",
      "metadata": {
        "id": "9YdvVHD6Mxp2"
      },
      "source": [
        "# Feature Selection"
      ]
    },
    {
      "cell_type": "code",
      "metadata": {
        "id": "EhY4bd4dM1en"
      },
      "source": [
        "# from sklearn.metrics import make_scorer\n",
        "# def my_custom_loss_func(y_validation, y_pred):\n",
        "#     return 1-np.sqrt(np.square(np.log(y_pred +1) - np.log(y_validation +1)).mean()) \n",
        "# #from xgboost import XGBRegressor\n",
        "# from lightgbm import LGBMRegressor\n",
        "# from mlxtend.feature_selection import SequentialFeatureSelector as SFS\n",
        "# sfs= SFS(LGBMRegressor(boosting_type='dart', class_weight=None, colsample_bytree=1.0,\n",
        "#               importance_type='split', learning_rate=0.2, max_depth=6,\n",
        "#               min_child_samples=20, min_child_weight=0.001, min_split_gain=0.0,\n",
        "#               n_estimators=350, n_jobs=-1, num_leaves=45, objective=None,\n",
        "#               random_state=0, reg_alpha=0.0, reg_lambda=0.0, silent=True,\n",
        "#               subsample=1.0, subsample_for_bin=200000, subsample_freq=0),\n",
        "#          k_features=(1,11),\n",
        "#          forward=True,\n",
        "#          floating=False,\n",
        "#          verbose=2,\n",
        "#          scoring=make_scorer(my_custom_loss_func),\n",
        "#          cv=3\n",
        "#         ).fit(X_train,y_train)"
      ],
      "execution_count": null,
      "outputs": []
    },
    {
      "cell_type": "code",
      "metadata": {
        "id": "nweGnyVINeRP"
      },
      "source": [
        "# features=list(sfs.k_feature_names_)\n",
        "# print(features)\n",
        "features=['availability', 'location', 'size', 'total_sqft', 'bath', 'balcony', 'society_size_mean', \n",
        "           'area_size_mean', 'price_per_sqft_area_wise']\n",
        "# features=['area_type', 'availability', 'location', 'size', 'total_sqft', 'bath', 'balcony', \n",
        "#          'society_size_mean', 'area_size_mean', 'price_per_sqft_area_wise']"
      ],
      "execution_count": null,
      "outputs": []
    },
    {
      "cell_type": "markdown",
      "metadata": {
        "id": "QJEWFPH3OV2Z"
      },
      "source": [
        "# Training Model"
      ]
    },
    {
      "cell_type": "code",
      "metadata": {
        "id": "ilRj2L19kt7s",
        "colab": {
          "base_uri": "https://localhost:8080/"
        },
        "outputId": "0372796f-793a-4e99-8c04-847d4dc3cc75"
      },
      "source": [
        "from xgboost import XGBRegressor\n",
        "xgb = XGBRegressor(random_state=2)#,learning_rate=0.25, n_estimators=70,max_depth=6)\n",
        "xgb.fit(X_train[features],y_train)\n",
        "y_pred_xgb=xgb.predict(X_validation[features])\n",
        "score=1-np.sqrt(np.square(np.log(y_pred_xgb +1) - np.log(y_validation +1)).mean()) \n",
        "score\n",
        "#0.7519694066363458"
      ],
      "execution_count": null,
      "outputs": [
        {
          "output_type": "stream",
          "text": [
            "[05:11:14] WARNING: /workspace/src/objective/regression_obj.cu:152: reg:linear is now deprecated in favor of reg:squarederror.\n"
          ],
          "name": "stdout"
        },
        {
          "output_type": "execute_result",
          "data": {
            "text/plain": [
              "0.7519694066363458"
            ]
          },
          "metadata": {
            "tags": []
          },
          "execution_count": 29
        }
      ]
    },
    {
      "cell_type": "code",
      "metadata": {
        "id": "je7RC1wSPlWO",
        "colab": {
          "base_uri": "https://localhost:8080/"
        },
        "outputId": "32493dc5-db02-4512-af2e-d8ab4f53a010"
      },
      "source": [
        "from lightgbm import LGBMRegressor\n",
        "lgb = LGBMRegressor(random_state=2)\n",
        "lgb.fit(X_train[features],y_train)\n",
        "y_pred_lgb=lgb.predict(X_validation[features])\n",
        "score=1-np.sqrt(np.square(np.log(y_pred_lgb +1) - np.log(y_validation +1)).mean()) \n",
        "score\n",
        "#0.7679147236843296"
      ],
      "execution_count": null,
      "outputs": [
        {
          "output_type": "execute_result",
          "data": {
            "text/plain": [
              "0.7679147236843296"
            ]
          },
          "metadata": {
            "tags": []
          },
          "execution_count": 30
        }
      ]
    },
    {
      "cell_type": "code",
      "metadata": {
        "id": "l_4dV3tBxzWE"
      },
      "source": [
        "# import lightgbm\n",
        "# lightgbm.plot_importance(lgb)"
      ],
      "execution_count": null,
      "outputs": []
    },
    {
      "cell_type": "code",
      "metadata": {
        "id": "3H1hD9jAdKGd"
      },
      "source": [
        "# from sklearn.model_selection import GridSearchCV\n",
        "# from sklearn.metrics import make_scorer\n",
        "# def my_custom_loss_func(y_validation, y_pred):\n",
        "#     return 1-np.sqrt(np.square(np.log(y_pred +1) - np.log(y_validation +1)).mean()) \n",
        "\n",
        "# params={\n",
        "#  \"learning_rate\"    : [0.18,0.2,0.22,0.25] ,\n",
        "# #\"boosting_type\"    : ['gdbt','dart'],\n",
        "#  \"num_leaves\"       : [43,44,45,46],\n",
        "#  \"max_depth\"        : [5,6,7],\n",
        "#  \"n_estimators\"     : [340,350,360]\n",
        "# }\n",
        "\n",
        "# regressor=LGBMRegressor(random_state=0,boosting_type='dart')\n",
        "# from sklearn.model_selection import GridSearchCV\n",
        "# grid_search=GridSearchCV(regressor,param_grid=params,scoring=make_scorer(my_custom_loss_func),n_jobs=-1,cv=3,verbose=2)\n",
        "# grid_search.fit(X_train[features],y_train)"
      ],
      "execution_count": null,
      "outputs": []
    },
    {
      "cell_type": "code",
      "metadata": {
        "id": "Z_thBJB2e6Mm"
      },
      "source": [
        "# print(grid_search.best_estimator_)\n",
        "# lgb_tuned=grid_search.best_estimator_\n",
        "\n",
        "# lgb_tuned=LGBMRegressor(boosting_type='dart', class_weight=None, colsample_bytree=1.0,\n",
        "#               importance_type='split', learning_rate=0.2, max_depth=6,\n",
        "#               min_child_samples=20, min_child_weight=0.001, min_split_gain=0.0,\n",
        "#               n_estimators=350, n_jobs=-1, num_leaves=45, objective=None,\n",
        "#               random_state=0, reg_alpha=0.0, reg_lambda=0.0, silent=True,\n",
        "#               subsample=1.0, subsample_for_bin=200000, subsample_freq=0)"
      ],
      "execution_count": null,
      "outputs": []
    },
    {
      "cell_type": "code",
      "metadata": {
        "id": "AI_Blu_YfD6b"
      },
      "source": [
        "# lgb_tuned.fit(X_train[features],y_train)\n",
        "# y_pred_lgb_tuned=lgb_tuned.predict(X_validation[features])\n",
        "# score=1-np.sqrt(np.square(np.log(y_pred_lgb_tuned +1) - np.log(y_validation +1)).mean()) \n",
        "# score"
      ],
      "execution_count": null,
      "outputs": []
    },
    {
      "cell_type": "code",
      "metadata": {
        "id": "JaBM2ePGfGZr"
      },
      "source": [
        "# lightgbm.plot_importance(lgb_tuned)"
      ],
      "execution_count": null,
      "outputs": []
    },
    {
      "cell_type": "code",
      "metadata": {
        "colab": {
          "base_uri": "https://localhost:8080/"
        },
        "id": "927xE7bo_X5V",
        "outputId": "c174a507-51e6-4ebd-ba95-4311485397a3"
      },
      "source": [
        "#!pip install catboost\n",
        "from catboost import CatBoostRegressor\n",
        "cat = CatBoostRegressor(random_state=100,logging_level='Silent')\n",
        "cat.fit(X_train[features],y_train)\n",
        "y_pred_cat=cat.predict(X_validation[features])\n",
        "score=1-np.sqrt(np.square(np.log(y_pred_cat +1) - np.log(y_validation +1)).mean()) \n",
        "score\n",
        "#0.768918168311045"
      ],
      "execution_count": null,
      "outputs": [
        {
          "output_type": "execute_result",
          "data": {
            "text/plain": [
              "0.768918168311045"
            ]
          },
          "metadata": {
            "tags": []
          },
          "execution_count": 38
        }
      ]
    },
    {
      "cell_type": "code",
      "metadata": {
        "colab": {
          "base_uri": "https://localhost:8080/"
        },
        "id": "y8HK55ESCCB4",
        "outputId": "a1f8d19a-d011-4268-bba2-60c299148b67"
      },
      "source": [
        "# from sklearn.model_selection import GridSearchCV\n",
        "# from sklearn.metrics import make_scorer\n",
        "# def my_custom_loss_func(y_validation, y_pred):\n",
        "#     return 1-np.sqrt(np.square(np.log(y_pred +1) - np.log(y_validation +1)).mean()) \n",
        "\n",
        "# params={\n",
        "#  \"learning_rate\"    : [0.045,0.05,0.055],\n",
        "#  #\"depth\"            : [7,8,9],\n",
        "#  \"iterations\"       : [1200,1500,1800],\n",
        "#  'l2_leaf_reg'      : [1,2],\n",
        "# }\n",
        "\n",
        "# regressor=CatBoostRegressor(random_state=0,logging_level='Silent',depth=8)\n",
        "# from sklearn.model_selection import GridSearchCV\n",
        "# grid_search=GridSearchCV(regressor,param_grid=params,scoring=make_scorer(my_custom_loss_func),n_jobs=-1,cv=3,verbose=2)\n",
        "# grid_search.fit(X_train[features],y_train)"
      ],
      "execution_count": null,
      "outputs": [
        {
          "output_type": "stream",
          "text": [
            "Fitting 3 folds for each of 18 candidates, totalling 54 fits\n"
          ],
          "name": "stdout"
        },
        {
          "output_type": "stream",
          "text": [
            "[Parallel(n_jobs=-1)]: Using backend LokyBackend with 2 concurrent workers.\n",
            "[Parallel(n_jobs=-1)]: Done  37 tasks      | elapsed:  4.1min\n",
            "[Parallel(n_jobs=-1)]: Done  54 out of  54 | elapsed:  6.4min finished\n"
          ],
          "name": "stderr"
        },
        {
          "output_type": "execute_result",
          "data": {
            "text/plain": [
              "GridSearchCV(cv=3, error_score=nan,\n",
              "             estimator=<catboost.core.CatBoostRegressor object at 0x7f9fa956d4e0>,\n",
              "             iid='deprecated', n_jobs=-1,\n",
              "             param_grid={'iterations': [1200, 1500, 1800],\n",
              "                         'l2_leaf_reg': [1, 2],\n",
              "                         'learning_rate': [0.045, 0.05, 0.055]},\n",
              "             pre_dispatch='2*n_jobs', refit=True, return_train_score=False,\n",
              "             scoring=make_scorer(my_custom_loss_func), verbose=2)"
            ]
          },
          "metadata": {
            "tags": []
          },
          "execution_count": 42
        }
      ]
    },
    {
      "cell_type": "code",
      "metadata": {
        "colab": {
          "base_uri": "https://localhost:8080/"
        },
        "id": "lbLSRo2uAmWl",
        "outputId": "612b071c-d547-4a90-823b-50b1139b0825"
      },
      "source": [
        "# print(grid_search.best_params_)\n",
        "# cat_tuned=grid_search.best_estimator_\n",
        "# #{'depth': 8, 'iterations': 1800, 'l2_leaf_reg': 2, 'learning_rate': 0.055}"
      ],
      "execution_count": null,
      "outputs": [
        {
          "output_type": "stream",
          "text": [
            "{'iterations': 1200, 'l2_leaf_reg': 1, 'learning_rate': 0.05}\n"
          ],
          "name": "stdout"
        }
      ]
    },
    {
      "cell_type": "code",
      "metadata": {
        "colab": {
          "base_uri": "https://localhost:8080/"
        },
        "id": "y2rIygDKXhk9",
        "outputId": "7af6f157-651d-4a17-90e1-034fdd9f6243"
      },
      "source": [
        "# cat_tuned.fit(X_train[features],y_train)\n",
        "# y_pred_cat_tuned=cat_tuned.predict(X_validation[features])\n",
        "# score=1-np.sqrt(np.square(np.log(y_pred_cat_tuned +1) - np.log(y_validation +1)).mean()) \n",
        "# score\n",
        "# #0.7718035637510762"
      ],
      "execution_count": null,
      "outputs": [
        {
          "output_type": "execute_result",
          "data": {
            "text/plain": [
              "0.7714890147915557"
            ]
          },
          "metadata": {
            "tags": []
          },
          "execution_count": 44
        }
      ]
    },
    {
      "cell_type": "code",
      "metadata": {
        "colab": {
          "base_uri": "https://localhost:8080/"
        },
        "id": "AKzSsowK_DFF",
        "outputId": "467c9df9-a69b-4bb4-ebde-d0b7478fbeb2"
      },
      "source": [
        "from sklearn.ensemble import VotingRegressor\n",
        "\n",
        "cat_v=CatBoostRegressor(random_state=100,iterations= 1200, l2_leaf_reg= 1, learning_rate= 0.05,depth=8,\n",
        "                        logging_level='Silent') \n",
        "lgb_v = LGBMRegressor(boosting_type='dart', learning_rate=0.2, max_depth=6,\n",
        "              n_estimators=350, num_leaves=45, random_state=0)\n",
        "\n",
        "vr = VotingRegressor([('cat', cat_v), ('lgb', lgb_v)])\n",
        "y_pred_vr=vr.fit(X_train[features], y_train).predict(X_validation[features])\n",
        "score=1-np.sqrt(np.square(np.log(y_pred_vr +1) - np.log(y_validation +1)).mean()) \n",
        "score\n",
        "#0.7725651948830787"
      ],
      "execution_count": null,
      "outputs": [
        {
          "output_type": "execute_result",
          "data": {
            "text/plain": [
              "0.7746025975811551"
            ]
          },
          "metadata": {
            "tags": []
          },
          "execution_count": 64
        }
      ]
    },
    {
      "cell_type": "markdown",
      "metadata": {
        "id": "Ohyxzr_fOZua"
      },
      "source": [
        "# Final Prediction"
      ]
    },
    {
      "cell_type": "code",
      "metadata": {
        "id": "kTVBj5NfOR0l"
      },
      "source": [
        "y_final_test=vr_tuned.predict(test[features])"
      ],
      "execution_count": null,
      "outputs": []
    },
    {
      "cell_type": "code",
      "metadata": {
        "colab": {
          "base_uri": "https://localhost:8080/",
          "height": 49
        },
        "id": "sSyU8BQ8mMGj",
        "outputId": "9bcbd4ff-7a81-4a80-958f-cd06260fbe11"
      },
      "source": [
        "subm=pd.DataFrame({'price':y_final_test})\n",
        "subm[subm['price']<0]"
      ],
      "execution_count": null,
      "outputs": [
        {
          "output_type": "execute_result",
          "data": {
            "text/html": [
              "<div>\n",
              "<style scoped>\n",
              "    .dataframe tbody tr th:only-of-type {\n",
              "        vertical-align: middle;\n",
              "    }\n",
              "\n",
              "    .dataframe tbody tr th {\n",
              "        vertical-align: top;\n",
              "    }\n",
              "\n",
              "    .dataframe thead th {\n",
              "        text-align: right;\n",
              "    }\n",
              "</style>\n",
              "<table border=\"1\" class=\"dataframe\">\n",
              "  <thead>\n",
              "    <tr style=\"text-align: right;\">\n",
              "      <th></th>\n",
              "      <th>price</th>\n",
              "    </tr>\n",
              "  </thead>\n",
              "  <tbody>\n",
              "  </tbody>\n",
              "</table>\n",
              "</div>"
            ],
            "text/plain": [
              "Empty DataFrame\n",
              "Columns: [price]\n",
              "Index: []"
            ]
          },
          "metadata": {
            "tags": []
          },
          "execution_count": 66
        }
      ]
    },
    {
      "cell_type": "code",
      "metadata": {
        "id": "rBBO6ltpmh8m",
        "colab": {
          "base_uri": "https://localhost:8080/",
          "height": 17
        },
        "outputId": "9d5c816e-431f-403d-dc96-a52761100b35"
      },
      "source": [
        "from google.colab import files\n",
        "subm.to_csv('voting regressor tuned.csv',index=False) \n",
        "files.download('voting regressor tuned.csv')"
      ],
      "execution_count": null,
      "outputs": [
        {
          "output_type": "display_data",
          "data": {
            "application/javascript": [
              "\n",
              "    async function download(id, filename, size) {\n",
              "      if (!google.colab.kernel.accessAllowed) {\n",
              "        return;\n",
              "      }\n",
              "      const div = document.createElement('div');\n",
              "      const label = document.createElement('label');\n",
              "      label.textContent = `Downloading \"${filename}\": `;\n",
              "      div.appendChild(label);\n",
              "      const progress = document.createElement('progress');\n",
              "      progress.max = size;\n",
              "      div.appendChild(progress);\n",
              "      document.body.appendChild(div);\n",
              "\n",
              "      const buffers = [];\n",
              "      let downloaded = 0;\n",
              "\n",
              "      const channel = await google.colab.kernel.comms.open(id);\n",
              "      // Send a message to notify the kernel that we're ready.\n",
              "      channel.send({})\n",
              "\n",
              "      for await (const message of channel.messages) {\n",
              "        // Send a message to notify the kernel that we're ready.\n",
              "        channel.send({})\n",
              "        if (message.buffers) {\n",
              "          for (const buffer of message.buffers) {\n",
              "            buffers.push(buffer);\n",
              "            downloaded += buffer.byteLength;\n",
              "            progress.value = downloaded;\n",
              "          }\n",
              "        }\n",
              "      }\n",
              "      const blob = new Blob(buffers, {type: 'application/binary'});\n",
              "      const a = document.createElement('a');\n",
              "      a.href = window.URL.createObjectURL(blob);\n",
              "      a.download = filename;\n",
              "      div.appendChild(a);\n",
              "      a.click();\n",
              "      div.remove();\n",
              "    }\n",
              "  "
            ],
            "text/plain": [
              "<IPython.core.display.Javascript object>"
            ]
          },
          "metadata": {
            "tags": []
          }
        },
        {
          "output_type": "display_data",
          "data": {
            "application/javascript": [
              "download(\"download_ce429406-e6de-449a-af06-8211cd3aed4a\", \"voting regressor tuned.csv\", 27035)"
            ],
            "text/plain": [
              "<IPython.core.display.Javascript object>"
            ]
          },
          "metadata": {
            "tags": []
          }
        }
      ]
    },
    {
      "cell_type": "code",
      "metadata": {
        "id": "1k-4zwCiEf4k"
      },
      "source": [
        ""
      ],
      "execution_count": null,
      "outputs": []
    }
  ]
}